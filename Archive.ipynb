{
 "cells": [
  {
   "cell_type": "markdown",
   "id": "c6564f5e-6d5e-4de4-ab20-f65782f38447",
   "metadata": {},
   "source": [
    "# Archive"
   ]
  },
  {
   "cell_type": "markdown",
   "id": "34481c9c-f2e9-4c5d-b06f-899156391e05",
   "metadata": {
    "jp-MarkdownHeadingCollapsed": true,
    "tags": []
   },
   "source": [
    "## Backtesting module Example"
   ]
  },
  {
   "cell_type": "code",
   "execution_count": 93,
   "id": "fc13a784-00f1-4a42-a6cf-1ff1302e466e",
   "metadata": {},
   "outputs": [],
   "source": [
    "class SmaCross(Strategy):\n",
    "    def init(self):\n",
    "        price = self.data.Close\n",
    "        self.ma1 = self.I(SMA, price, 10)\n",
    "        self.ma2 = self.I(SMA, price, 20)\n",
    "\n",
    "    def next(self):\n",
    "        if crossover(self.ma1, self.ma2):\n",
    "            self.buy()\n",
    "        elif crossover(self.ma2, self.ma1):\n",
    "            self.sell()\n",
    "\n",
    "\n"
   ]
  },
  {
   "cell_type": "code",
   "execution_count": 4,
   "id": "8433b464-57ff-4d09-9a9d-8e5f8cf4058b",
   "metadata": {},
   "outputs": [
    {
     "name": "stdout",
     "output_type": "stream",
     "text": [
      "[*********************100%***********************]  1 of 1 completed\n"
     ]
    }
   ],
   "source": [
    "data = yf.download('SPY', start='2018-01-01')"
   ]
  },
  {
   "cell_type": "code",
   "execution_count": 5,
   "id": "594f53c8-4cd9-439e-8df4-34efb771102d",
   "metadata": {},
   "outputs": [],
   "source": [
    "# bt = Backtest(data, SmaCross, commission=.002,\n",
    "#               exclusive_orders=True)\n",
    "# stats = bt.run()\n",
    "# bt.plot()"
   ]
  },
  {
   "cell_type": "code",
   "execution_count": 6,
   "id": "125cf96c-aac0-4b13-abd9-012c54e8cfeb",
   "metadata": {},
   "outputs": [],
   "source": [
    "# stats"
   ]
  },
  {
   "cell_type": "markdown",
   "id": "d014b2b9-3f3f-485a-afe6-98e80a852e8b",
   "metadata": {
    "tags": []
   },
   "source": [
    "## yFinance Wrapper"
   ]
  },
  {
   "cell_type": "code",
   "execution_count": null,
   "id": "0e511313-faf1-41d0-adba-6c146c89dccc",
   "metadata": {},
   "outputs": [],
   "source": [
    "from modules import utils\n",
    "\n",
    "start_year = 2022\n",
    "start_month = 9\n",
    "start_day = 2\n",
    "\n",
    "# end_year = 2022\n",
    "# end_month = 9\n",
    "# end_day = 27\n",
    "\n",
    "\n",
    "# Valid intervals: [1m, 2m, 5m, 15m, 30m, 60m, 90m, 1h, 1d, 5d, 1wk, 1mo, 3mo]\n",
    "interval = '1h'\n",
    "\n",
    "data = utils.pull_stock(\n",
    "    symbol='SPY',\n",
    "    interval=interval,\n",
    "    start_year=start_year,\n",
    "    start_month=start_month,\n",
    "    start_day=start_day,\n",
    "    end_year=end_year,\n",
    "    end_month=end_month,\n",
    "    end_day=end_day,\n",
    ")\n",
    "\n",
    "data"
   ]
  },
  {
   "cell_type": "markdown",
   "id": "4c27b33e-e116-4fbc-b077-522fc261480c",
   "metadata": {},
   "source": [
    "# First bullish reversal"
   ]
  },
  {
   "cell_type": "code",
   "execution_count": null,
   "id": "52170658-71aa-4622-a9ea-3c1af911cae7",
   "metadata": {},
   "outputs": [],
   "source": [
    "def bullish_reversal(df_data):\n",
    "    '''\n",
    "    Gets a Pandas DataFrame with OHLC data and returns whether the last few candlesticks indicate a bullish reversal (down to up).\n",
    "    \n",
    "    Input:\n",
    "        df_data (pd.DataFrame) - OHLC data.\n",
    "    \n",
    "    Returns:\n",
    "        bull (boolean) - A boolean indicator, telling whether there has just now been a bullish reversal.\n",
    "    '''\n",
    "    \n",
    "    # we go in reverse chronological order, starting with the most recent candlestick\n",
    "    df_data = df_data.iloc[::-1]\n",
    "\n",
    "    \n",
    "    # first we check for confirmation - is the most recent candlestick bullish?\n",
    "    last_candle = df_data.iloc[0]\n",
    "    confirmation = last_candle['Close'] - last_candle['Open'] > 0\n",
    "    \n",
    "    if not confirmation: return False\n",
    "    \n",
    "    # afterwards, we allow up to two more consecutive bulls before seeing a bearish one\n",
    "    max_bull = 2\n",
    "    \n",
    "    # we assume there are over <max_bull> consecutive bulls before the confirmation, until proven otherwise\n",
    "    too_many_bulls = True  \n",
    "    \n",
    "    # goes from df_data[-2] to df_data[-max_bull-1] and checks if those candles are bullish\n",
    "    for i in range(2, max_bull + 2):  \n",
    "        cur_candle = df_data.iloc[i]\n",
    "        is_bull = cur_candle['Close'] - cur_candle['Open'] > 0\n",
    "        \n",
    "        # it's a bearish candlestick!\n",
    "        if not is_bull:  \n",
    "            too_many_bulls = False  # the assumption is broken - we are proven otherwise\n",
    "            bear_idx = i\n",
    "            break  \n",
    "    \n",
    "    # in this case, we consider this a bullish trend, not a reversal\n",
    "    if too_many_bulls: return False  \n",
    "    \n",
    "    # if we reched here, we have a confirmation, not too many bulls and now a bear\n",
    "    bear_candle = df_data.iloc[bear_idx]\n",
    "    \n",
    "    # now we check if this candle is a pattern indicaing a bullish reversal\n",
    "    # hammer\n",
    "    \n",
    "    bull_reversal = True"
   ]
  }
 ],
 "metadata": {
  "kernelspec": {
   "display_name": "Python 3",
   "language": "python",
   "name": "python3"
  },
  "language_info": {
   "codemirror_mode": {
    "name": "ipython",
    "version": 3
   },
   "file_extension": ".py",
   "mimetype": "text/x-python",
   "name": "python",
   "nbconvert_exporter": "python",
   "pygments_lexer": "ipython3",
   "version": "3.8.8"
  }
 },
 "nbformat": 4,
 "nbformat_minor": 5
}
